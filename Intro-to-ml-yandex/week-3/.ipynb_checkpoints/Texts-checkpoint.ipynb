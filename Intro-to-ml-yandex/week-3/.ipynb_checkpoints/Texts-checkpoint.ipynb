{
 "cells": [
  {
   "cell_type": "code",
   "execution_count": 22,
   "metadata": {},
   "outputs": [],
   "source": [
    "from sklearn import datasets\n",
    "from sklearn.feature_extraction.text import TfidfVectorizer\n",
    "from sklearn.svm import SVC\n",
    "from sklearn.model_selection import GridSearchCV\n",
    "from sklearn.model_selection import KFold\n",
    "\n",
    "import numpy as np"
   ]
  },
  {
   "cell_type": "code",
   "execution_count": 23,
   "metadata": {},
   "outputs": [],
   "source": [
    "newsgroups = datasets.fetch_20newsgroups(\n",
    "                    subset='all', \n",
    "                    categories=['alt.atheism', 'sci.space']\n",
    "             )"
   ]
  },
  {
   "cell_type": "code",
   "execution_count": 24,
   "metadata": {},
   "outputs": [
    {
     "name": "stdout",
     "output_type": "stream",
     "text": [
      "0235\n"
     ]
    }
   ],
   "source": [
    "vectorizer = TfidfVectorizer()\n",
    "vectorizer.fit(newsgroups.data)\n",
    "feature_mapping = vectorizer.get_feature_names()\n",
    "print(feature_mapping[100])"
   ]
  },
  {
   "cell_type": "code",
   "execution_count": 27,
   "metadata": {},
   "outputs": [
    {
     "data": {
      "text/plain": [
       "GridSearchCV(cv=KFold(n_splits=5, random_state=241, shuffle=True),\n",
       "       error_score='raise',\n",
       "       estimator=SVC(C=1.0, cache_size=200, class_weight=None, coef0=0.0,\n",
       "  decision_function_shape='ovr', degree=3, gamma='auto', kernel='linear',\n",
       "  max_iter=-1, probability=False, random_state=241, shrinking=True,\n",
       "  tol=0.001, verbose=False),\n",
       "       fit_params=None, iid=True, n_jobs=1,\n",
       "       param_grid={'C': array([1.e-05, 1.e-04, 1.e-03, 1.e-02, 1.e-01, 1.e+00, 1.e+01, 1.e+02,\n",
       "       1.e+03, 1.e+04, 1.e+05])},\n",
       "       pre_dispatch='2*n_jobs', refit=True, return_train_score='warn',\n",
       "       scoring='accuracy', verbose=0)"
      ]
     },
     "execution_count": 27,
     "metadata": {},
     "output_type": "execute_result"
    }
   ],
   "source": [
    "grid = {'C': np.power(10.0, np.arange(-5, 6))}\n",
    "cv = KFold(n_splits=5, shuffle=True, random_state=241)\n",
    "clf = SVC(kernel='linear', random_state=241)\n",
    "gs = GridSearchCV(clf, grid, scoring='accuracy', cv=cv)\n",
    "X = vectorizer.transform(newsgroups.data)\n",
    "y = newsgroups.target\n",
    "gs.fit(X, y)"
   ]
  },
  {
   "cell_type": "code",
   "execution_count": 33,
   "metadata": {},
   "outputs": [
    {
     "name": "stdout",
     "output_type": "stream",
     "text": [
      "mean: 0.55263, std: 0.02812, params: {'C': 1e-05}\n",
      "mean: 0.55263, std: 0.02812, params: {'C': 0.0001}\n",
      "mean: 0.55263, std: 0.02812, params: {'C': 0.001}\n",
      "mean: 0.55263, std: 0.02812, params: {'C': 0.01}\n",
      "mean: 0.95017, std: 0.00822, params: {'C': 0.1}\n",
      "mean: 0.99328, std: 0.00455, params: {'C': 1.0}\n",
      "mean: 0.99328, std: 0.00455, params: {'C': 10.0}\n",
      "mean: 0.99328, std: 0.00455, params: {'C': 100.0}\n",
      "mean: 0.99328, std: 0.00455, params: {'C': 1000.0}\n",
      "mean: 0.99328, std: 0.00455, params: {'C': 10000.0}\n",
      "mean: 0.99328, std: 0.00455, params: {'C': 100000.0}\n"
     ]
    },
    {
     "name": "stderr",
     "output_type": "stream",
     "text": [
      "/usr/local/lib/python3.5/dist-packages/sklearn/model_selection/_search.py:761: DeprecationWarning: The grid_scores_ attribute was deprecated in version 0.18 in favor of the more elaborate cv_results_ attribute. The grid_scores_ attribute will not be available from 0.20\n",
      "  DeprecationWarning)\n"
     ]
    }
   ],
   "source": [
    "for a in gs.grid_scores_:\n",
    "    print(a)\n",
    "#     print(a.mean_validation_score) # — оценка качества по кросс-валидации\n",
    "#     print(a.parameters) # — значения параметров"
   ]
  },
  {
   "cell_type": "code",
   "execution_count": 35,
   "metadata": {},
   "outputs": [
    {
     "data": {
      "text/plain": [
       "SVC(C=1, cache_size=200, class_weight=None, coef0=0.0,\n",
       "  decision_function_shape='ovr', degree=3, gamma='auto', kernel='linear',\n",
       "  max_iter=-1, probability=False, random_state=241, shrinking=True,\n",
       "  tol=0.001, verbose=False)"
      ]
     },
     "execution_count": 35,
     "metadata": {},
     "output_type": "execute_result"
    }
   ],
   "source": [
    "clf = SVC(C=1, kernel='linear', random_state=241)\n",
    "clf.fit(X, y)"
   ]
  },
  {
   "cell_type": "code",
   "execution_count": 56,
   "metadata": {},
   "outputs": [
    {
     "name": "stdout",
     "output_type": "stream",
     "text": [
      "weights [0.11331532 0.05134321 0.05445196 ... 0.2372855  0.18461124 0.2410018 ]\n",
      "indexes of sorted asc array [14055 18226 10909 ... 17449 18092 16693]\n",
      "weights sorted asc [2.64598400e-05 3.11108690e-05 3.15670363e-05 ... 1.25468995e+00\n",
      " 1.92037940e+00 2.66316479e+00]\n",
      "last 10 indexes [17469 17422 16746 16935 17536  9015 17045 17449 18092 16693]\n",
      "top-10 weights [1.02930693 1.09709365 1.13061234 1.13908084 1.1801316  1.20161118\n",
      " 1.24918001 1.25468995 1.9203794  2.66316479]\n",
      "['daver' 'maddi' 'maidenhead' 'markowitz' 'matthew' 'middletown' 'mileage'\n",
      " 'million' 'miraculous' 'mythmaker']\n"
     ]
    }
   ],
   "source": [
    "weights = np.abs(clf.coef_.data)\n",
    "print(\"weights\", weights)\n",
    "ind = weights.argsort()\n",
    "print(\"indexes of sorted asc array\", ind)\n",
    "print(\"weights sorted asc\", weights[ind])\n",
    "ind = ind[-10:]\n",
    "print(\"last 10 indexes\", ind)\n",
    "print(\"top-10 weights\", weights[ind])\n",
    "arr = np.array(feature_mapping)[ind]\n",
    "arr.sort()\n",
    "print(arr)"
   ]
  }
 ],
 "metadata": {
  "kernelspec": {
   "display_name": "Python 3",
   "language": "python",
   "name": "python3"
  },
  "language_info": {
   "codemirror_mode": {
    "name": "ipython",
    "version": 3
   },
   "file_extension": ".py",
   "mimetype": "text/x-python",
   "name": "python",
   "nbconvert_exporter": "python",
   "pygments_lexer": "ipython3",
   "version": "3.5.2"
  }
 },
 "nbformat": 4,
 "nbformat_minor": 2
}
