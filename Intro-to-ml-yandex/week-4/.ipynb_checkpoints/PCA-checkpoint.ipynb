{
 "cells": [
  {
   "cell_type": "code",
   "execution_count": 2,
   "metadata": {},
   "outputs": [],
   "source": [
    "import pandas as pd\n",
    "import numpy as np\n",
    "from sklearn.linear_model import Ridge\n",
    "from sklearn.feature_extraction import DictVectorizer\n",
    "from sklearn.feature_extraction.text import TfidfVectorizer\n",
    "from scipy.sparse import hstack\n",
    "from sklearn.decomposition import PCA"
   ]
  },
  {
   "cell_type": "code",
   "execution_count": 16,
   "metadata": {},
   "outputs": [
    {
     "name": "stdout",
     "output_type": "stream",
     "text": [
      "(374, 31)\n"
     ]
    },
    {
     "data": {
      "text/html": [
       "<div>\n",
       "<style scoped>\n",
       "    .dataframe tbody tr th:only-of-type {\n",
       "        vertical-align: middle;\n",
       "    }\n",
       "\n",
       "    .dataframe tbody tr th {\n",
       "        vertical-align: top;\n",
       "    }\n",
       "\n",
       "    .dataframe thead th {\n",
       "        text-align: right;\n",
       "    }\n",
       "</style>\n",
       "<table border=\"1\" class=\"dataframe\">\n",
       "  <thead>\n",
       "    <tr style=\"text-align: right;\">\n",
       "      <th></th>\n",
       "      <th>date</th>\n",
       "      <th>AXP</th>\n",
       "      <th>BA</th>\n",
       "      <th>CAT</th>\n",
       "      <th>CSCO</th>\n",
       "      <th>CVX</th>\n",
       "      <th>DD</th>\n",
       "      <th>DIS</th>\n",
       "      <th>GE</th>\n",
       "      <th>GS</th>\n",
       "      <th>...</th>\n",
       "      <th>PFE</th>\n",
       "      <th>PG</th>\n",
       "      <th>T</th>\n",
       "      <th>TRV</th>\n",
       "      <th>UNH</th>\n",
       "      <th>UTX</th>\n",
       "      <th>V</th>\n",
       "      <th>VZ</th>\n",
       "      <th>WMT</th>\n",
       "      <th>XOM</th>\n",
       "    </tr>\n",
       "  </thead>\n",
       "  <tbody>\n",
       "    <tr>\n",
       "      <th>0</th>\n",
       "      <td>2013-09-23</td>\n",
       "      <td>76.440002</td>\n",
       "      <td>117.510002</td>\n",
       "      <td>85.029999</td>\n",
       "      <td>24.270000</td>\n",
       "      <td>125.519997</td>\n",
       "      <td>59.409999</td>\n",
       "      <td>64.75</td>\n",
       "      <td>24.280001</td>\n",
       "      <td>165.250000</td>\n",
       "      <td>...</td>\n",
       "      <td>28.799999</td>\n",
       "      <td>79.279999</td>\n",
       "      <td>34.220001</td>\n",
       "      <td>86.379997</td>\n",
       "      <td>71.82</td>\n",
       "      <td>109.419998</td>\n",
       "      <td>196.240005</td>\n",
       "      <td>47.98</td>\n",
       "      <td>76.419998</td>\n",
       "      <td>87.750000</td>\n",
       "    </tr>\n",
       "    <tr>\n",
       "      <th>1</th>\n",
       "      <td>2013-09-24</td>\n",
       "      <td>76.070000</td>\n",
       "      <td>119.000000</td>\n",
       "      <td>85.110001</td>\n",
       "      <td>24.139999</td>\n",
       "      <td>124.489998</td>\n",
       "      <td>59.319997</td>\n",
       "      <td>64.32</td>\n",
       "      <td>24.320000</td>\n",
       "      <td>162.970001</td>\n",
       "      <td>...</td>\n",
       "      <td>28.709999</td>\n",
       "      <td>78.620003</td>\n",
       "      <td>34.090000</td>\n",
       "      <td>85.870003</td>\n",
       "      <td>72.32</td>\n",
       "      <td>110.000000</td>\n",
       "      <td>193.339996</td>\n",
       "      <td>47.27</td>\n",
       "      <td>75.750000</td>\n",
       "      <td>87.360001</td>\n",
       "    </tr>\n",
       "  </tbody>\n",
       "</table>\n",
       "<p>2 rows × 31 columns</p>\n",
       "</div>"
      ],
      "text/plain": [
       "         date        AXP          BA        CAT       CSCO         CVX  \\\n",
       "0  2013-09-23  76.440002  117.510002  85.029999  24.270000  125.519997   \n",
       "1  2013-09-24  76.070000  119.000000  85.110001  24.139999  124.489998   \n",
       "\n",
       "          DD    DIS         GE          GS    ...            PFE         PG  \\\n",
       "0  59.409999  64.75  24.280001  165.250000    ...      28.799999  79.279999   \n",
       "1  59.319997  64.32  24.320000  162.970001    ...      28.709999  78.620003   \n",
       "\n",
       "           T        TRV    UNH         UTX           V     VZ        WMT  \\\n",
       "0  34.220001  86.379997  71.82  109.419998  196.240005  47.98  76.419998   \n",
       "1  34.090000  85.870003  72.32  110.000000  193.339996  47.27  75.750000   \n",
       "\n",
       "         XOM  \n",
       "0  87.750000  \n",
       "1  87.360001  \n",
       "\n",
       "[2 rows x 31 columns]"
      ]
     },
     "execution_count": 16,
     "metadata": {},
     "output_type": "execute_result"
    }
   ],
   "source": [
    "train = pd.read_csv(\"close_prices.csv\")\n",
    "print(train.shape)\n",
    "train.head(2)"
   ]
  },
  {
   "cell_type": "code",
   "execution_count": 11,
   "metadata": {},
   "outputs": [],
   "source": [
    "X_train = train.iloc[:, 1:]"
   ]
  },
  {
   "cell_type": "code",
   "execution_count": 12,
   "metadata": {},
   "outputs": [
    {
     "data": {
      "text/plain": [
       "PCA(copy=True, iterated_power='auto', n_components=10, random_state=None,\n",
       "  svd_solver='auto', tol=0.0, whiten=False)"
      ]
     },
     "execution_count": 12,
     "metadata": {},
     "output_type": "execute_result"
    }
   ],
   "source": [
    "model = PCA(n_components=10)\n",
    "model.fit(X_train)"
   ]
  },
  {
   "cell_type": "code",
   "execution_count": 14,
   "metadata": {},
   "outputs": [
    {
     "name": "stdout",
     "output_type": "stream",
     "text": [
      "[0.73897118 0.11007169 0.04995088 0.0287492  0.02215448 0.01931577\n",
      " 0.00674853 0.00614091 0.00320594 0.00305611]\n",
      "[0.73897118 0.84904287 0.89899376 0.92774295 0.94989743 0.9692132\n",
      " 0.97596173 0.98210264 0.98530858 0.98836469]\n"
     ]
    }
   ],
   "source": [
    "print(model.explained_variance_ratio_)\n",
    "print(np.cumsum(model.explained_variance_ratio_))"
   ]
  },
  {
   "cell_type": "code",
   "execution_count": 19,
   "metadata": {},
   "outputs": [
    {
     "name": "stdout",
     "output_type": "stream",
     "text": [
      "(10, 30)\n"
     ]
    }
   ],
   "source": [
    "print(model.components_.shape)"
   ]
  },
  {
   "cell_type": "code",
   "execution_count": 49,
   "metadata": {},
   "outputs": [
    {
     "name": "stdout",
     "output_type": "stream",
     "text": [
      "26\n",
      "V\n"
     ]
    }
   ],
   "source": [
    "ind = np.argmax(model.components_[0])\n",
    "print(ind)\n",
    "print(train.columns[ind+1])"
   ]
  },
  {
   "cell_type": "code",
   "execution_count": 39,
   "metadata": {},
   "outputs": [
    {
     "data": {
      "text/plain": [
       "(374,)"
      ]
     },
     "execution_count": 39,
     "metadata": {},
     "output_type": "execute_result"
    }
   ],
   "source": [
    "cmp_1 = model.transform(X_train)[:, 0]\n",
    "cmp_1.shape\n",
    "# model.components_"
   ]
  },
  {
   "cell_type": "code",
   "execution_count": 45,
   "metadata": {},
   "outputs": [
    {
     "name": "stdout",
     "output_type": "stream",
     "text": [
      "(374, 2)\n"
     ]
    },
    {
     "data": {
      "text/plain": [
       "(374,)"
      ]
     },
     "execution_count": 45,
     "metadata": {},
     "output_type": "execute_result"
    }
   ],
   "source": [
    "dj = pd.read_csv(\"djia_index.csv\")\n",
    "print(dj.shape)\n",
    "dj = dj.iloc[:, 1].values\n",
    "dj.shape"
   ]
  },
  {
   "cell_type": "code",
   "execution_count": 46,
   "metadata": {},
   "outputs": [
    {
     "name": "stdout",
     "output_type": "stream",
     "text": [
      "[[1.         0.90965222]\n",
      " [0.90965222 1.        ]]\n"
     ]
    }
   ],
   "source": [
    "print(np.corrcoef(cmp_1, dj))"
   ]
  }
 ],
 "metadata": {
  "kernelspec": {
   "display_name": "Python 3",
   "language": "python",
   "name": "python3"
  },
  "language_info": {
   "codemirror_mode": {
    "name": "ipython",
    "version": 3
   },
   "file_extension": ".py",
   "mimetype": "text/x-python",
   "name": "python",
   "nbconvert_exporter": "python",
   "pygments_lexer": "ipython3",
   "version": "3.5.2"
  }
 },
 "nbformat": 4,
 "nbformat_minor": 2
}
